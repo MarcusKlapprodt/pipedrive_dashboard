{
 "cells": [
  {
   "cell_type": "markdown",
   "metadata": {},
   "source": [
    "# Global Setup"
   ]
  },
  {
   "cell_type": "code",
   "execution_count": 6,
   "metadata": {},
   "outputs": [],
   "source": [
    "from pipedriveConnector import getCS, getSumCS, mChurns, csKpiTotal, getUsers\n",
    "import pandas as pd\n",
    "import matplotlib.pyplot as plt\n",
    "import datetime\n",
    "from plotly import graph_objects as go\n",
    "import plotly.express as px\n",
    "from IPython.core.display import HTML\n",
    "import os"
   ]
  },
  {
   "cell_type": "markdown",
   "metadata": {},
   "source": [
    "# Pipedrive Activities Global Setup"
   ]
  },
  {
   "cell_type": "code",
   "execution_count": 7,
   "metadata": {},
   "outputs": [],
   "source": [
    "pd.set_option('display.max_rows', 200)\n",
    "start_date = '2022-04-10'\n",
    "end_date = '2022-04-30'"
   ]
  },
  {
   "cell_type": "markdown",
   "metadata": {},
   "source": [
    "## Pipedrive Activities: CSM"
   ]
  },
  {
   "cell_type": "code",
   "execution_count": null,
   "metadata": {},
   "outputs": [],
   "source": [
    "marcusDf = getSumCS('Marcus', start_date, end_date)\n",
    "jackDf = getSumCS('Jack', start_date, end_date)\n",
    "philippDF = getSumCS('Philipp', start_date, end_date)"
   ]
  },
  {
   "cell_type": "markdown",
   "metadata": {},
   "source": [
    "## CS - Total Activities"
   ]
  },
  {
   "cell_type": "code",
   "execution_count": 4,
   "metadata": {},
   "outputs": [],
   "source": [
    "pd.options.display.max_rows = 999"
   ]
  },
  {
   "cell_type": "code",
   "execution_count": 5,
   "metadata": {},
   "outputs": [],
   "source": [
    "def managerDataframeCleaned(dataframe, csname):\n",
    "    df = dataframe\n",
    "    df['csmanager'] = csname\n",
    "    cols = list(df.columns)\n",
    "    cols = [cols[-1]] + cols[:-1]\n",
    "    newDf = df[cols].set_index('date')\n",
    "    return newDf.iloc[:,:8]"
   ]
  },
  {
   "cell_type": "code",
   "execution_count": 6,
   "metadata": {},
   "outputs": [],
   "source": [
    "newMarcusDf = managerDataframeCleaned(marcusDf, 'Marcus')\n",
    "newJackDf = managerDataframeCleaned(jackDf, 'Jack')\n",
    "newHristinaDf = managerDataframeCleaned(hristinaDf, 'Hristina')\n",
    "newPhilippDF = managerDataframeCleaned(philippDF, 'Philipp')\n",
    "newLeonDF = managerDataframeCleaned(LeonDF, 'Leon')"
   ]
  },
  {
   "cell_type": "code",
   "execution_count": null,
   "metadata": {},
   "outputs": [],
   "source": [
    "all_cs = newMarcusDf.append(newJackDf).append(newHristinaDf).append(newPhilippDF).append(newLeonDF).fillna(0)\n",
    "all_new = all_cs.iloc[:,:7]\n",
    "all_new.iloc[:,1:] = all_new.iloc[:,1:].astype(int)\n",
    "all_new"
   ]
  }
 ],
 "metadata": {
  "kernelspec": {
   "display_name": "Python 3 (ipykernel)",
   "language": "python",
   "name": "python3"
  },
  "language_info": {
   "codemirror_mode": {
    "name": "ipython",
    "version": 3
   },
   "file_extension": ".py",
   "mimetype": "text/x-python",
   "name": "python",
   "nbconvert_exporter": "python",
   "pygments_lexer": "ipython3",
   "version": "3.9.13"
  }
 },
 "nbformat": 4,
 "nbformat_minor": 4
}
